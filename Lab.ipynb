{
 "cells": [
  {
   "cell_type": "code",
   "execution_count": 1,
   "id": "fdef6931",
   "metadata": {},
   "outputs": [
    {
     "name": "stderr",
     "output_type": "stream",
     "text": [
      "/var/folders/5y/_5l3y2p900scjg2bd7r52_lh0000gn/T/ipykernel_9812/4224856437.py:2: DtypeWarning: Columns (8) have mixed types. Specify dtype option on import or set low_memory=False.\n",
      "  df = pd.read_csv('/Users/suso/BootcampDA/Unit7/data_7.01_activities/files_for_activities/learningSet.csv.zip')\n"
     ]
    }
   ],
   "source": [
    "import pandas as pd\n",
    "df = pd.read_csv('/Users/suso/BootcampDA/Unit7/data_7.01_activities/files_for_activities/learningSet.csv.zip')"
   ]
  },
  {
   "cell_type": "code",
   "execution_count": 2,
   "id": "cd460a1d",
   "metadata": {},
   "outputs": [
    {
     "name": "stdout",
     "output_type": "stream",
     "text": [
      "Column 'AGE' has 23665 null values.\n",
      "Column 'NUMCHLD' has 83026 null values.\n",
      "Column 'INCOME' has 21286 null values.\n",
      "Column 'WEALTH1' has 44732 null values.\n",
      "Column 'MBCRAFT' has 52854 null values.\n",
      "Column 'MBGARDEN' has 52854 null values.\n",
      "Column 'MBBOOKS' has 52854 null values.\n",
      "Column 'MBCOLECT' has 52914 null values.\n",
      "Column 'MAGFAML' has 52854 null values.\n",
      "Column 'MAGFEM' has 52854 null values.\n",
      "Column 'MAGMALE' has 52854 null values.\n",
      "Column 'PUBGARDN' has 52854 null values.\n",
      "Column 'PUBCULIN' has 52854 null values.\n",
      "Column 'PUBHLTH' has 52854 null values.\n",
      "Column 'PUBDOITY' has 52854 null values.\n",
      "Column 'PUBNEWFN' has 52854 null values.\n",
      "Column 'PUBPHOTO' has 52854 null values.\n",
      "Column 'PUBOPP' has 52854 null values.\n",
      "Column 'WEALTH2' has 43823 null values.\n",
      "Column 'MSA' has 132 null values.\n",
      "Column 'ADI' has 132 null values.\n",
      "Column 'DMA' has 132 null values.\n",
      "Column 'ADATE_3' has 1950 null values.\n",
      "Column 'ADATE_4' has 2191 null values.\n",
      "Column 'ADATE_5' has 33590 null values.\n",
      "Column 'ADATE_6' has 3557 null values.\n",
      "Column 'ADATE_7' has 8874 null values.\n",
      "Column 'ADATE_8' has 3511 null values.\n",
      "Column 'ADATE_9' has 11245 null values.\n",
      "Column 'ADATE_10' has 32748 null values.\n",
      "Column 'ADATE_11' has 10422 null values.\n",
      "Column 'ADATE_12' has 8923 null values.\n",
      "Column 'ADATE_13' has 40219 null values.\n",
      "Column 'ADATE_14' has 18867 null values.\n",
      "Column 'ADATE_15' has 65477 null values.\n",
      "Column 'ADATE_16' has 20364 null values.\n",
      "Column 'ADATE_17' has 27650 null values.\n",
      "Column 'ADATE_18' has 21263 null values.\n",
      "Column 'ADATE_19' has 24480 null values.\n",
      "Column 'ADATE_20' has 50200 null values.\n",
      "Column 'ADATE_21' has 35212 null values.\n",
      "Column 'ADATE_22' has 25648 null values.\n",
      "Column 'ADATE_23' has 56270 null values.\n",
      "Column 'ADATE_24' has 36973 null values.\n",
      "Column 'RDATE_3' has 95170 null values.\n",
      "Column 'RDATE_4' has 95131 null values.\n",
      "Column 'RDATE_5' has 95403 null values.\n",
      "Column 'RDATE_6' has 94636 null values.\n",
      "Column 'RDATE_7' has 86517 null values.\n",
      "Column 'RDATE_8' has 73940 null values.\n",
      "Column 'RDATE_9' has 78678 null values.\n",
      "Column 'RDATE_10' has 84951 null values.\n",
      "Column 'RDATE_11' has 80672 null values.\n",
      "Column 'RDATE_12' has 69712 null values.\n",
      "Column 'RDATE_13' has 83162 null values.\n",
      "Column 'RDATE_14' has 72095 null values.\n",
      "Column 'RDATE_15' has 88150 null values.\n",
      "Column 'RDATE_16' has 68418 null values.\n",
      "Column 'RDATE_17' has 86011 null values.\n",
      "Column 'RDATE_18' has 75634 null values.\n",
      "Column 'RDATE_19' has 79535 null values.\n",
      "Column 'RDATE_20' has 87524 null values.\n",
      "Column 'RDATE_21' has 85899 null values.\n",
      "Column 'RDATE_22' has 74539 null values.\n",
      "Column 'RDATE_23' has 87553 null values.\n",
      "Column 'RDATE_24' has 77674 null values.\n",
      "Column 'RAMNT_3' has 95170 null values.\n",
      "Column 'RAMNT_4' has 95131 null values.\n",
      "Column 'RAMNT_5' has 95403 null values.\n",
      "Column 'RAMNT_6' has 94636 null values.\n",
      "Column 'RAMNT_7' has 86517 null values.\n",
      "Column 'RAMNT_8' has 73940 null values.\n",
      "Column 'RAMNT_9' has 78678 null values.\n",
      "Column 'RAMNT_10' has 84951 null values.\n",
      "Column 'RAMNT_11' has 80672 null values.\n",
      "Column 'RAMNT_12' has 69712 null values.\n",
      "Column 'RAMNT_13' has 83162 null values.\n",
      "Column 'RAMNT_14' has 72095 null values.\n",
      "Column 'RAMNT_15' has 88150 null values.\n",
      "Column 'RAMNT_16' has 68418 null values.\n",
      "Column 'RAMNT_17' has 86011 null values.\n",
      "Column 'RAMNT_18' has 75634 null values.\n",
      "Column 'RAMNT_19' has 79535 null values.\n",
      "Column 'RAMNT_20' has 87524 null values.\n",
      "Column 'RAMNT_21' has 85899 null values.\n",
      "Column 'RAMNT_22' has 74539 null values.\n",
      "Column 'RAMNT_23' has 87553 null values.\n",
      "Column 'RAMNT_24' has 77674 null values.\n",
      "Column 'NEXTDATE' has 9973 null values.\n",
      "Column 'TIMELAG' has 9973 null values.\n",
      "Column 'CLUSTER2' has 132 null values.\n"
     ]
    }
   ],
   "source": [
    "# Check for null values in the numerical columns.\n",
    "\n",
    "numerical_columns = df.select_dtypes(include=['float64', 'int64']).columns\n",
    "numerical_columns_with_null = df[numerical_columns].columns[df[numerical_columns].isnull().any()]\n",
    "\n",
    "for col in numerical_columns_with_null:\n",
    "    null_count = df[col].isnull().sum()\n",
    "    print(f\"Column '{col}' has {null_count} null values.\")"
   ]
  },
  {
   "cell_type": "code",
   "execution_count": 3,
   "id": "ceb2a67c",
   "metadata": {},
   "outputs": [
    {
     "name": "stderr",
     "output_type": "stream",
     "text": [
      "/Users/suso/anaconda3/lib/python3.11/site-packages/sklearn/preprocessing/_encoders.py:972: FutureWarning: `sparse` was renamed to `sparse_output` in version 1.2 and will be removed in 1.4. `sparse_output` is ignored unless you leave `sparse` to its default value.\n",
      "  warnings.warn(\n"
     ]
    }
   ],
   "source": [
    "import pandas as pd\n",
    "from sklearn.impute import SimpleImputer\n",
    "from sklearn.preprocessing import StandardScaler, OneHotEncoder\n",
    "\n",
    "\n",
    "numeric_cols = ['WEALTH1', 'ADI']\n",
    "categorical_cols = ['GEOCODE2', 'DMA', 'MSA']\n",
    "\n",
    "imputer = SimpleImputer(strategy='mean')\n",
    "df[numeric_cols] = imputer.fit_transform(df[numeric_cols])\n",
    "\n",
    "imputer = SimpleImputer(strategy='most_frequent')\n",
    "df[categorical_cols] = imputer.fit_transform(df[categorical_cols])\n",
    "\n",
    "encoder = OneHotEncoder(sparse=False, handle_unknown='ignore')\n",
    "encoded_cols = pd.DataFrame(encoder.fit_transform(df[categorical_cols]))\n",
    "df.drop(categorical_cols, axis=1, inplace=True)\n",
    "df = pd.concat([df, encoded_cols], axis=1)\n",
    "\n",
    "scaler = StandardScaler()\n",
    "df[numeric_cols] = scaler.fit_transform(df[numeric_cols])\n",
    "\n"
   ]
  },
  {
   "cell_type": "code",
   "execution_count": 6,
   "id": "1a0b44ad",
   "metadata": {},
   "outputs": [
    {
     "name": "stdout",
     "output_type": "stream",
     "text": [
      "Index([ 'ODATEDW',  'OSOURCE',    'TCODE',    'STATE',      'ZIP', 'MAILCODE',\n",
      "       'PVASTATE',      'DOB',   'NOEXCH', 'RECINHSE',\n",
      "       ...\n",
      "              499,        500,        501,        502,        503,        504,\n",
      "              505,        506,        507,        508],\n",
      "      dtype='object', length=987)\n"
     ]
    }
   ],
   "source": [
    "import pandas as pd\n",
    "import seaborn as sns\n",
    "import matplotlib.pyplot as plt\n",
    "\n",
    "\n",
    "# Basic Summary Statistics\n",
    "print(df.describe())\n",
    "\n",
    "# Univariate Analysis\n",
    "for col in numeric_cols:\n",
    "    plt.figure()\n",
    "    sns.histplot(df[col], bins=20, kde=True)\n",
    "    plt.title(f'Histogram of {col}')\n",
    "    plt.show()\n",
    "\n",
    "for col in categorical_cols:\n",
    "    plt.figure()\n",
    "    sns.countplot(data=df, x=col)\n",
    "    plt.title(f'Countplot of {col}')\n",
    "    plt.xticks(rotation=45)\n",
    "    plt.show()\n",
    "\n",
    "# Bivariate Analysis\n",
    "plt.figure()\n",
    "sns.pairplot(df[numeric_cols])\n",
    "plt.show()\n",
    "\n",
    "for col in categorical_cols:\n",
    "    plt.figure()\n",
    "    sns.boxplot(data=df, x=col, y='WEALTH1')\n",
    "    plt.title(f'Boxplot of WEALTH1 across {col}')\n",
    "    plt.xticks(rotation=45)\n",
    "    plt.show()"
   ]
  },
  {
   "cell_type": "code",
   "execution_count": null,
   "id": "4e688614",
   "metadata": {},
   "outputs": [],
   "source": []
  }
 ],
 "metadata": {
  "kernelspec": {
   "display_name": "Python 3 (ipykernel)",
   "language": "python",
   "name": "python3"
  },
  "language_info": {
   "codemirror_mode": {
    "name": "ipython",
    "version": 3
   },
   "file_extension": ".py",
   "mimetype": "text/x-python",
   "name": "python",
   "nbconvert_exporter": "python",
   "pygments_lexer": "ipython3",
   "version": "3.11.5"
  }
 },
 "nbformat": 4,
 "nbformat_minor": 5
}
